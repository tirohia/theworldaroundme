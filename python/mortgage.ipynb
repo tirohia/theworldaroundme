{
 "cells": [
  {
   "cell_type": "code",
   "execution_count": 72,
   "metadata": {},
   "outputs": [
    {
     "data": {
      "text/html": [
       "<script>\n",
       "code_show=true; \n",
       "function code_toggle() {\n",
       " if (code_show){\n",
       "  $('div.input').hide();\n",
       "  $('div.output_prompt').css(\"visibility\", \"hidden\");\n",
       " } else {\n",
       "  $('div.input').show();\n",
       "  $('div.output_prompt').css(\"visibility\", \"visible\");\n",
       " }\n",
       " code_show = !code_show;\n",
       "} \n",
       "$(document).ready(code_toggle);\n",
       "$(document).dblclick(code_toggle);\n",
       "</script>"
      ],
      "text/plain": [
       "<IPython.core.display.HTML object>"
      ]
     },
     "execution_count": 72,
     "metadata": {},
     "output_type": "execute_result"
    }
   ],
   "source": [
    "from IPython.display import HTML\n",
    "HTML('''<script>\n",
    "code_show=true; \n",
    "function code_toggle() {\n",
    " if (code_show){\n",
    "  $('div.input').hide();\n",
    "  $('div.output_prompt').css(\"visibility\", \"hidden\");\n",
    " } else {\n",
    "  $('div.input').show();\n",
    "  $('div.output_prompt').css(\"visibility\", \"visible\");\n",
    " }\n",
    " code_show = !code_show;\n",
    "} \n",
    "$(document).ready(code_toggle);\n",
    "$(document).dblclick(code_toggle);\n",
    "</script>''')"
   ]
  },
  {
   "cell_type": "markdown",
   "metadata": {},
   "source": [
    "# Mortgage scenarios"
   ]
  },
  {
   "cell_type": "markdown",
   "metadata": {},
   "source": [
    "Housing is nuts. This is a quick (rough) running of the numbers for a number of the options that I am considering, the end goal (at the moment) being able to live/work in a small to medium sized warehouse in West Auckland somewhere in five years time. There are a small number of suitable warehouses going at the moment in the 6-700K range. The problem with these is that banks want a much greater deposit (~40%) and have much shorter terms for loans on commercial buildings.  \n",
    "\n",
    "There are a number of scenarios to be considered. All should be evaluated against the end goal, which at this point in time is to accumalate sufficeint value so as to be able to purchase a property on my own in 5(?) years time.\n",
    "\n",
    "Options so far include\n",
    "- Kiwibuild new build\n",
    "- Kiwibuild existing house\n",
    "- New build in Auckland\n",
    "- New build out of Auckland\n",
    "- Existing build in Auckland\n",
    "- Existing build out of Auckland\n",
    "- Small brick and tile\n",
    "- Leasehold\n",
    "- Commercial (warehouse)\n",
    "\n",
    "Not currently going to evaluate all of these, but enough of them to get an idea of what is viable given different deposit amounts, and then evaulate against the end goal criteria. They are all by neccesity, approximate. Some assumptions used:\n",
    "- higher than current interest rate, to guard against the fact that the interest rates will go up. \n",
    "- capital gains are only assumed on some options\n",
    "- captial gains are assumed to be lower than they have been for the last few years\n"
   ]
  },
  {
   "cell_type": "code",
   "execution_count": 3,
   "metadata": {
    "tags": [
     "hide-input",
     "hide-cell"
    ]
   },
   "outputs": [],
   "source": [
    "# relevant code/imports for all sections. \n",
    "\n",
    "from ipywidgets import interact, widgets\n",
    "from IPython.display import display\n",
    "from mortgage import Loan\n",
    "import inspect\n",
    "from IPython.display import Markdown as md\n",
    "import pandas as pd\n",
    "from IPython.display import display, HTML\n",
    "\n",
    "# for widget description width\n",
    "style = {'description_width': 'initial'}\n",
    "\n",
    "def installmentToDict(installment):\n",
    "    installmentDict=dict()\n",
    "    for i in inspect.getmembers(installment):\n",
    "    # to remove private and protected functions\n",
    "        if not i[0].startswith('_'):\n",
    "        # To remove other methods that do not start with a underscore\n",
    "            if not inspect.ismethod(i[1]): \n",
    "                installmentDict[i[0]]=i[1]\n",
    "    del installmentDict[\"count\"]\n",
    "    del installmentDict[\"index\"]\n",
    "    \n",
    "    #for key, value in installmentDict.items():\n",
    "    #    if isinstance(value, Decimal):\n",
    "    #        installmentDict[key] = float(value)\n",
    "\n",
    "    return installmentDict\n",
    "\n",
    "def compound_gains(principle, rate, time):\n",
    "    # time is in years\n",
    "    n = 1 #number of periods at which the interest is accured - 1 is annually.\n",
    "    amount = principle * (((1 + ((rate/100.0)/n)) ** (n*time)))\n",
    "    return(amount)\n",
    "\n",
    "def interestToDate(loanSchedule, currentMark):\n",
    "    interestPaid = 0\n",
    "    for i in range(1,currentMark*12):\n",
    "        values = installmentToDict(loanSchedule.schedule(currentMark))\n",
    "        interestPaid = interestPaid + values['interest']\n",
    "    return interestPaid\n",
    "\n",
    "def principleToDate(loanSchedule, currentMark):\n",
    "    principalPaid = 0\n",
    "    for i in range(1,currentMark*12):\n",
    "        values = installmentToDict(loanSchedule.schedule(currentMark))\n",
    "        principalPaid = principalPaid + values['principal']\n",
    "    return principalPaid\n",
    "\n",
    "def format(x):\n",
    "        return \"${:.1f}K\".format(x/1000)\n",
    "    \n",
    "## for changing the slider variables\n",
    "def on_change(v):\n",
    "    x = v['new'] \n"
   ]
  },
  {
   "cell_type": "markdown",
   "metadata": {},
   "source": [
    "## Kiwibuild, new build\n",
    "\n",
    "The new limit for first home buyers for new builds utilising Kiwibuild is 700K. There are currently builds available (with unknown start dates) for ~650. The minimum deposit using this approach is 5%. Caveats with kiwibuild\n",
    "- requires my income as a single person be less than 95K\n",
    "- requires any loan/gift for a deposit to be declared a gift and not be expected to be repaid. "
   ]
  },
  {
   "cell_type": "code",
   "execution_count": 2,
   "metadata": {},
   "outputs": [
    {
     "name": "stdout",
     "output_type": "stream",
     "text": [
      "Original Balance:         $    500,000\n",
      "Interest Rate:                    0.06 %\n",
      "APY:                              6.17 %\n",
      "APR:                              6.00 %\n",
      "Term:                               30 years\n",
      "Monthly Payment:          $    2997.75\n",
      "\n",
      "Total principal payments: $ 500,000.00\n",
      "Total interest payments:  $ 579,190.95\n",
      "Total payments:           $1,079,190.95\n",
      "Interest to principal:           115.8 %\n",
      "Years to pay:                     30.0\n"
     ]
    }
   ],
   "source": [
    "\n",
    "loan = Loan(principal=500000, interest=.06, term=30)\n",
    "loan.summarize"
   ]
  },
  {
   "cell_type": "markdown",
   "metadata": {},
   "source": [
    "## Kiwbuild, existing build\n",
    "The current limit on using Kiwibuild to but an existing home is $630K. This is not a lot, The benefits are that it would allow me to access about 8K in grants and buy using only 5% deposit\n",
    "\n",
    "Two options\n",
    "- one bedroom, only have to live in it for a year\n",
    "- two bedrooms, have to live in it for 3 years. \n",
    "\n"
   ]
  },
  {
   "cell_type": "code",
   "execution_count": 284,
   "metadata": {
    "collapsed": true
   },
   "outputs": [
    {
     "data": {
      "text/html": [
       "<div>\n",
       "<style scoped>\n",
       "    .dataframe tbody tr th:only-of-type {\n",
       "        vertical-align: middle;\n",
       "    }\n",
       "\n",
       "    .dataframe tbody tr th {\n",
       "        vertical-align: top;\n",
       "    }\n",
       "\n",
       "    .dataframe thead th {\n",
       "        text-align: right;\n",
       "    }\n",
       "</style>\n",
       "<table border=\"1\" class=\"dataframe\">\n",
       "  <thead>\n",
       "    <tr style=\"text-align: right;\">\n",
       "      <th></th>\n",
       "      <th>field</th>\n",
       "      <th>value</th>\n",
       "    </tr>\n",
       "  </thead>\n",
       "  <tbody>\n",
       "    <tr>\n",
       "      <th>0</th>\n",
       "      <td>balance</td>\n",
       "      <td>$511,798.96</td>\n",
       "    </tr>\n",
       "    <tr>\n",
       "      <th>1</th>\n",
       "      <td>interest</td>\n",
       "      <td>$2,562.67</td>\n",
       "    </tr>\n",
       "    <tr>\n",
       "      <th>2</th>\n",
       "      <td>number</td>\n",
       "      <td>60</td>\n",
       "    </tr>\n",
       "    <tr>\n",
       "      <th>3</th>\n",
       "      <td>payment</td>\n",
       "      <td>$3,297.53</td>\n",
       "    </tr>\n",
       "    <tr>\n",
       "      <th>4</th>\n",
       "      <td>principal</td>\n",
       "      <td>$734.86</td>\n",
       "    </tr>\n",
       "    <tr>\n",
       "      <th>5</th>\n",
       "      <td>interestToDate</td>\n",
       "      <td>$159,650.64</td>\n",
       "    </tr>\n",
       "    <tr>\n",
       "      <th>6</th>\n",
       "      <td>principleToDate</td>\n",
       "      <td>$32,955.09</td>\n",
       "    </tr>\n",
       "    <tr>\n",
       "      <th>7</th>\n",
       "      <td>valueAtMark</td>\n",
       "      <td>$966,362.26</td>\n",
       "    </tr>\n",
       "    <tr>\n",
       "      <th>8</th>\n",
       "      <td>capitalGains</td>\n",
       "      <td>$216,362.26</td>\n",
       "    </tr>\n",
       "    <tr>\n",
       "      <th>9</th>\n",
       "      <td>personalGains</td>\n",
       "      <td>$196,866.70</td>\n",
       "    </tr>\n",
       "    <tr>\n",
       "      <th>10</th>\n",
       "      <td>gainsOnDeposit</td>\n",
       "      <td>$57,696.60</td>\n",
       "    </tr>\n",
       "    <tr>\n",
       "      <th>11</th>\n",
       "      <td>interestOnDeposit</td>\n",
       "      <td>$60,000.00</td>\n",
       "    </tr>\n",
       "    <tr>\n",
       "      <th>12</th>\n",
       "      <td>weeklyMortgagePayment</td>\n",
       "      <td>$760.97</td>\n",
       "    </tr>\n",
       "    <tr>\n",
       "      <th>13</th>\n",
       "      <td>weeklyPayment</td>\n",
       "      <td>$991.74</td>\n",
       "    </tr>\n",
       "  </tbody>\n",
       "</table>\n",
       "</div>"
      ],
      "text/plain": [
       "                    field        value\n",
       "0                 balance  $511,798.96\n",
       "1                interest    $2,562.67\n",
       "2                  number           60\n",
       "3                 payment    $3,297.53\n",
       "4               principal      $734.86\n",
       "5          interestToDate  $159,650.64\n",
       "6         principleToDate   $32,955.09\n",
       "7             valueAtMark  $966,362.26\n",
       "8            capitalGains  $216,362.26\n",
       "9           personalGains  $196,866.70\n",
       "10         gainsOnDeposit   $57,696.60\n",
       "11      interestOnDeposit   $60,000.00\n",
       "12  weeklyMortgagePayment      $760.97\n",
       "13          weeklyPayment      $991.74"
      ]
     },
     "metadata": {},
     "output_type": "display_data"
    }
   ],
   "source": [
    "## assumed rate of capital gains, default to the Auckland average of 5%\n",
    "capitalGainsRate=5.2\n",
    "## the number of years. \n",
    "mark=5\n",
    "## interest rate, expressed as a value between 0 and 1\n",
    "interestRate=0.06\n",
    "## the number of years the loan would run for if I didn't cash out. \n",
    "term = 30\n",
    "## total value of the hypothetical property\n",
    "totalValue = 750000\n",
    "\n",
    "## value of deposit from Sam\n",
    "depositValue = 200000\n",
    "\n",
    "\n",
    "## sum borrowed from the bank\n",
    "loanValue = totalValue - depositValue\n",
    "\n",
    "## minimum house value at the mark, assuming capital gains rate stays at at least the default\n",
    "finalValue = compound_interest(loanValue, capitalGainsRate, mark)\n",
    "\n",
    "## loan computation\n",
    "loan = Loan(principal=loanValue, interest=interestRate, term = term)\n",
    "\n",
    "valuesAtMark = installmentToDict(loan.schedule(mark*12))\n",
    "valuesAtMark['interestToDate'] = interestToDate(loan, mark)\n",
    "valuesAtMark['interestToDate'] = valuesAtMark.pop('total_interest')\n",
    "valuesAtMark['principleToDate'] = principleToDate(loan, mark)\n",
    "\n",
    "# capital gains\n",
    "valuesAtMark['valueAtMark'] = compound_gains(totalValue, capitalGainsRate, mark)\n",
    "valuesAtMark['capitalGains'] = valuesAtMark['valueAtMark'] - totalValue\n",
    "valuesAtMark['personalGains'] = valuesAtMark['capitalGains']*(1-(depositValue/totalValue)) + loanValue-float(valuesAtMark['balance'])\n",
    "valuesAtMark['gainsOnDeposit'] = valuesAtMark['capitalGains']*(depositValue/totalValue)\n",
    "\n",
    "valuesAtMark['interestOnDeposit'] = (depositValue * interestRate) * mark\n",
    "\n",
    "valuesAtMark['weeklyMortgagePayment'] = float(loan.monthly_payment) * 12/52\n",
    "valuesAtMark['weeklyPayment'] = valuesAtMark['weeklyMortgagePayment'] + (depositValue * interestRate)/52\n",
    "\n",
    "markValues = pd.DataFrame(valuesAtMark.items(), columns =[\"field\", \"value\"]) \n",
    "markValues['value'] = markValues['value'].apply('${:,.2f}'.format)\n",
    "markValues.iloc[2,1] = valuesAtMark['number']\n",
    "\n",
    "display(markValues)\n",
    "\n",
    "a=2\n"
   ]
  },
  {
   "cell_type": "markdown",
   "metadata": {},
   "source": [
    "## New build in Auckland\n",
    "\n",
    "{{loanValue}}\n",
    "\"This is a string with {{\" + a + \"}} in it\"\n"
   ]
  },
  {
   "cell_type": "code",
   "execution_count": null,
   "metadata": {},
   "outputs": [],
   "source": []
  },
  {
   "cell_type": "markdown",
   "metadata": {},
   "source": [
    "## New build, out of Auckland"
   ]
  },
  {
   "cell_type": "code",
   "execution_count": null,
   "metadata": {},
   "outputs": [],
   "source": []
  },
  {
   "cell_type": "markdown",
   "metadata": {},
   "source": [
    "## Existing build, in Auckland"
   ]
  },
  {
   "cell_type": "code",
   "execution_count": null,
   "metadata": {},
   "outputs": [],
   "source": []
  },
  {
   "cell_type": "markdown",
   "metadata": {},
   "source": [
    "## Existing build, out of Auckland"
   ]
  },
  {
   "cell_type": "code",
   "execution_count": null,
   "metadata": {},
   "outputs": [],
   "source": []
  },
  {
   "cell_type": "markdown",
   "metadata": {},
   "source": [
    "## Small brick and tile."
   ]
  },
  {
   "cell_type": "code",
   "execution_count": null,
   "metadata": {},
   "outputs": [],
   "source": []
  },
  {
   "cell_type": "markdown",
   "metadata": {},
   "source": [
    "\n",
    "## Leasehold\n",
    "\n",
    "\n",
    "Leasehold is a little different. The upfront sum is significantly less. There is a significant cost involved in the ground rent though. The upfront sum could be anywhere from 150 to 250k. On the face of it, it would be very easy to pay this off in a few years. Ground rent can easily add 300 pw to the costs though, making repayments smaller. Things to be wary about - when is the ground rent due for review, CVu had a thing last year where an extra 10K/year was added to the ground rent. A review just gone might make this an attractive option for a couple of years, or a review several years away, giving time to buy, recoup and sell with a signiicant period left before the next review - will be harder to sell if the next review is close. "
   ]
  },
  {
   "cell_type": "code",
   "execution_count": 86,
   "metadata": {
    "scrolled": true
   },
   "outputs": [
    {
     "data": {
      "application/vnd.jupyter.widget-view+json": {
       "model_id": "347751c890634fa787e47648bc458e06",
       "version_major": 2,
       "version_minor": 0
      },
      "text/plain": [
       "IntText(value=200, description='Total Value(k): ', style=DescriptionStyle(description_width='initial'))"
      ]
     },
     "metadata": {},
     "output_type": "display_data"
    },
    {
     "data": {
      "application/vnd.jupyter.widget-view+json": {
       "model_id": "6e450456584f4951b79d1bda14560d1f",
       "version_major": 2,
       "version_minor": 0
      },
      "text/plain": [
       "IntText(value=40, description='Deposit(k): ', style=DescriptionStyle(description_width='initial'))"
      ]
     },
     "metadata": {},
     "output_type": "display_data"
    },
    {
     "data": {
      "application/vnd.jupyter.widget-view+json": {
       "model_id": "ecc3d314d5424660ae927710d01d02e2",
       "version_major": 2,
       "version_minor": 0
      },
      "text/plain": [
       "IntText(value=12, description='Ground rent(k): ', style=DescriptionStyle(description_width='initial'))"
      ]
     },
     "metadata": {},
     "output_type": "display_data"
    },
    {
     "data": {
      "application/vnd.jupyter.widget-view+json": {
       "model_id": "9508d6e67e5b458586084c33857f2fcc",
       "version_major": 2,
       "version_minor": 0
      },
      "text/plain": [
       "FloatSlider(value=3.0, description='Interest rate(%)', max=10.0, style=SliderStyle(description_width='initial'…"
      ]
     },
     "metadata": {},
     "output_type": "display_data"
    },
    {
     "data": {
      "application/vnd.jupyter.widget-view+json": {
       "model_id": "7a90ae95575244aa85e087c932134b89",
       "version_major": 2,
       "version_minor": 0
      },
      "text/plain": [
       "IntText(value=10, description='Term(y): ', style=DescriptionStyle(description_width='initial'))"
      ]
     },
     "metadata": {},
     "output_type": "display_data"
    }
   ],
   "source": [
    "\n",
    "\n",
    "\n",
    "propertyValueInput=widgets.IntText(value=200, description= \"Total Value(k): \", style = style)\n",
    "display(propertyValueInput)\n",
    "\n",
    "depositInput=widgets.IntText(value=40, description= \"Deposit(k): \" , style = style)\n",
    "display(depositInput)\n",
    "\n",
    "groundRentInput=widgets.IntText(value=12, description= \"Ground rent(k): \", style = style)\n",
    "display(groundRentInput)\n",
    "\n",
    "x=3\n",
    "interestSlider = widgets.FloatSlider(value=3, min=0, max=10, description=\"Interest rate(%)\" , readout_format='.2f', style = style)\n",
    "interestSlider.observe(on_change, names='value')\n",
    "display(interestSlider)\n",
    "\n",
    "\n",
    "termInput=widgets.IntText(value=10, description= \"Term(y): \", style = style)\n",
    "display(termInput)\n"
   ]
  },
  {
   "cell_type": "markdown",
   "metadata": {},
   "source": [
    "If we add a proviso of limiting the rent to around $700 - flexible, but roughly 500(-100) for me, 200(+/-100) for a flatmate, then paying around with the settings, we can see that with ~300pw added for ground rent, then we have to have a term of ~10 years to make the rent achievable. "
   ]
  },
  {
   "cell_type": "code",
   "execution_count": 91,
   "metadata": {
    "scrolled": true
   },
   "outputs": [
    {
     "name": "stdout",
     "output_type": "stream",
     "text": [
      "weekly mortgage payment:\n",
      "$402.72\n",
      "weekly payment including ground rent/opex:\n",
      "$729.65\n"
     ]
    }
   ],
   "source": [
    "interestRate= interestSlider.value/100\n",
    "totalValue = propertyValueInput.value * 1000\n",
    "depositValue=depositInput.value * 100\n",
    "term = termInput.value\n",
    "loan = Loan(principal=totalValue-depositValue, interest=interestRate, term=term)\n",
    "\n",
    "\n",
    "fiveYearMark = installmentToDict(loan.schedule(60))\n",
    "\n",
    "weeklyMortgage = (fiveYearMark['payment']*12)/52\n",
    "weeklyGroundRent = groundRentInput.value*1000/52\n",
    "weeklyMortgage = float(weeklyMortgage)\n",
    "weeklyPayment = weeklyMortgage + weeklyGroundRent\n",
    "\n",
    "print(\"weekly mortgage payment:\")\n",
    "print(\"${:,.2f}\".format(weeklyMortgage))\n",
    "print(\"weekly payment including ground rent/opex:\")\n",
    "print(\"${:,.2f}\".format(weeklyPayment))\n"
   ]
  },
  {
   "cell_type": "markdown",
   "metadata": {},
   "source": [
    "So a shorter term, with more goes towards the capital. If we look at this at the five year mark then what remains is:"
   ]
  },
  {
   "cell_type": "code",
   "execution_count": 94,
   "metadata": {},
   "outputs": [
    {
     "name": "stdout",
     "output_type": "stream",
     "text": [
      "$81,140.52\n"
     ]
    }
   ],
   "source": [
    "fiveYearMark = installmentToDict(loan.schedule(60))\n",
    "print (\"${:,.2f}\".format(totalValue-depositValue-fiveYearMark[\"balance\"]))\n",
    "\n"
   ]
  },
  {
   "cell_type": "markdown",
   "metadata": {},
   "source": [
    "Which might be fine if there were capital gains, but the general advice appears to be that the capital gains accrue to the land, and not the built structures. So total gains on this appear to be ~ 80K over five years. \n",
    "\n",
    "Most of these options have a cost - namely, the interest. This option has the added cost of "
   ]
  },
  {
   "cell_type": "code",
   "execution_count": 102,
   "metadata": {},
   "outputs": [
    {
     "name": "stdout",
     "output_type": "stream",
     "text": [
      "$187,000.00\n"
     ]
    }
   ],
   "source": [
    "groundRentPaid = weeklyGroundRent * 52 * term\n",
    "print (\"${:,.2f}\".format(groundRentPaid))"
   ]
  },
  {
   "cell_type": "markdown",
   "metadata": {},
   "source": [
    "has been paid to get to this point, a combination of ground rent and opex in a roughly 2/3-1/3 split. \n",
    "As an aside, if one was okay with being a landlord, and could afford to buy one of these outright, it might possibly be an okay thing to contemplate, as the only cost is that of your ground rent/opex. "
   ]
  },
  {
   "cell_type": "code",
   "execution_count": null,
   "metadata": {},
   "outputs": [],
   "source": []
  },
  {
   "cell_type": "markdown",
   "metadata": {},
   "source": [
    "## Commercial\n",
    "\n",
    "Commercial properties require a minimum of 40% deposit, which makes them difficult to obtain finance for. Additionally, interest rates are higher, and loan terms shorter. \n",
    "\n",
    "Currently, the BNZ appears to be the only viable option as it is possible to get a 25 year term loan, as opposed to the standard 15 that other banks appear to have as their limit. \n",
    "\n",
    "\n",
    "Interest rates for the BNZ vary, with a base of 2.2% and an industry specific rate that can vary between 1.8 and 4. "
   ]
  },
  {
   "cell_type": "code",
   "execution_count": 103,
   "metadata": {},
   "outputs": [
    {
     "data": {
      "application/vnd.jupyter.widget-view+json": {
       "model_id": "5c168f68656546e6ac14d13e37e36f0f",
       "version_major": 2,
       "version_minor": 0
      },
      "text/plain": [
       "IntText(value=650, description='Total Value: ')"
      ]
     },
     "metadata": {},
     "output_type": "display_data"
    },
    {
     "data": {
      "application/vnd.jupyter.widget-view+json": {
       "model_id": "1ff03b61072a44ebb43235f91e57b79b",
       "version_major": 2,
       "version_minor": 0
      },
      "text/plain": [
       "IntText(value=120, description='Deposit: ')"
      ]
     },
     "metadata": {},
     "output_type": "display_data"
    },
    {
     "data": {
      "application/vnd.jupyter.widget-view+json": {
       "model_id": "900217e99ed644cbb23f4103cf6d5645",
       "version_major": 2,
       "version_minor": 0
      },
      "text/plain": [
       "IntSlider(value=4, max=10)"
      ]
     },
     "metadata": {},
     "output_type": "display_data"
    }
   ],
   "source": [
    "\n",
    "propertyValue=widgets.IntText(value=650, description= \"Total Value: \")\n",
    "\n",
    "display(propertyValue)\n",
    "\n",
    "depositValue=widgets.IntText(value=120, description= \"Deposit: \")\n",
    "\n",
    "display(depositValue)\n",
    "\n",
    "\n",
    "x = 5\n",
    "slider = widgets.IntSlider(value=4, min=0, max=10)\n",
    "# change the slider value\n",
    "def on_change(v):\n",
    "    x = v['new'] \n",
    "slider.observe(on_change, names='value')\n",
    "\n",
    "display(slider)"
   ]
  },
  {
   "cell_type": "code",
   "execution_count": 104,
   "metadata": {},
   "outputs": [],
   "source": [
    "\n",
    "\n",
    "interestRate= slider.value/100\n",
    "\n",
    "totalValue = propertyValue.value * 1000\n",
    "depositValue=depositValue.value * 100\n",
    "\n",
    "loan = Loan(principal=totalValue-depositValue, interest=interestRate, term=25)\n",
    "\n"
   ]
  },
  {
   "cell_type": "markdown",
   "metadata": {},
   "source": [
    "At the 5 year mark, the capital that I would hold would be:\n",
    "Value of property - sams deposit - sams share of capital gains - whatever is left to the bank. "
   ]
  },
  {
   "cell_type": "code",
   "execution_count": 105,
   "metadata": {},
   "outputs": [
    {
     "name": "stdout",
     "output_type": "stream",
     "text": [
      "balance  :  $555,727.45\n",
      "interest  :  $1,857.46\n",
      "number  :  60\n",
      "payment  :  $3,367.60\n",
      "principal  :  $1,510.14\n",
      "total_interest  :  $119,783.39\n"
     ]
    }
   ],
   "source": [
    "\n",
    "\n",
    "fiveYearMark = installmentToDict(loan.schedule(60))\n",
    "\n",
    "for key, value in fiveYearMark.items():\n",
    "    if key==\"number\":\n",
    "        print(key, \" : \", value)\n",
    "    else:\n",
    "        print(key, \" : \", \"${:,.2f}\".format(value))\n"
   ]
  },
  {
   "cell_type": "markdown",
   "metadata": {},
   "source": [
    "So my capital becomes is what remains when the deposit and what the bank still owns is removed form the total value:"
   ]
  },
  {
   "cell_type": "code",
   "execution_count": 106,
   "metadata": {},
   "outputs": [
    {
     "name": "stdout",
     "output_type": "stream",
     "text": [
      "$82,272.55\n"
     ]
    }
   ],
   "source": [
    "\n",
    "print (\"${:,.2f}\".format(totalValue-depositValue-fiveYearMark[\"balance\"]))"
   ]
  },
  {
   "cell_type": "markdown",
   "metadata": {},
   "source": [
    "This is without accounting for capital gains. Auckland has been at ~5% for some time, so I'm currently seeting capital gains at 4%, which leaves a total value of:"
   ]
  },
  {
   "cell_type": "code",
   "execution_count": 107,
   "metadata": {},
   "outputs": [
    {
     "name": "stdout",
     "output_type": "stream",
     "text": [
      "$829,583.02\n"
     ]
    }
   ],
   "source": [
    "gainsRate=5\n",
    "mark=5\n",
    "  \n",
    "finalValue = compound_interest(totalValue, gainsRate, mark)\n",
    "print(\"${:,.2f}\".format(finalValue))\n",
    "\n"
   ]
  },
  {
   "cell_type": "markdown",
   "metadata": {},
   "source": [
    "And a final total capital for myself of:"
   ]
  },
  {
   "cell_type": "code",
   "execution_count": 108,
   "metadata": {},
   "outputs": [
    {
     "name": "stdout",
     "output_type": "stream",
     "text": [
      "$172,064.06\n"
     ]
    }
   ],
   "source": [
    "personalGains = float((finalValue-totalValue)/2)\n",
    "fiveYearMark[\"balance\"] = float(fiveYearMark[\"balance\"])\n",
    "      \n",
    "print (\"${:,.2f}\".format(totalValue + personalGains - depositValue - fiveYearMark[\"balance\"]))"
   ]
  },
  {
   "cell_type": "markdown",
   "metadata": {},
   "source": [
    "Then the question remains, how much has this cost me? The two sums I am interested in here are how much have I spent, and how much would I have spent on rent/saved otherwise. \n",
    "Costs at this point will have been the interest on the loan, plus the interest on the deposit. \n",
    "Interest on the loan to this point:"
   ]
  },
  {
   "cell_type": "code",
   "execution_count": 114,
   "metadata": {},
   "outputs": [
    {
     "name": "stdout",
     "output_type": "stream",
     "text": [
      "$117,925.94\n"
     ]
    }
   ],
   "source": [
    "interestPaid = 0\n",
    "for i in range(1, 5*12):\n",
    "    interestPaid = interestPaid + loan.schedule(i).interest\n",
    "    \n",
    "print(\"${:,.2f}\".format(interestPaid))"
   ]
  },
  {
   "cell_type": "markdown",
   "metadata": {},
   "source": [
    "whilst what I would have paid in rent (300pw) would have been:"
   ]
  },
  {
   "cell_type": "code",
   "execution_count": 121,
   "metadata": {},
   "outputs": [
    {
     "name": "stdout",
     "output_type": "stream",
     "text": [
      "52000\n"
     ]
    }
   ],
   "source": [
    "rent = 200 * 52 * 5\n",
    "print(rent)"
   ]
  },
  {
   "cell_type": "markdown",
   "metadata": {},
   "source": [
    "and I would have been able to save maybe ..."
   ]
  },
  {
   "cell_type": "code",
   "execution_count": 122,
   "metadata": {},
   "outputs": [
    {
     "name": "stdout",
     "output_type": "stream",
     "text": [
      "91000\n"
     ]
    }
   ],
   "source": [
    "savings = 350 * 52 * 5\n",
    "print(savings)"
   ]
  },
  {
   "cell_type": "markdown",
   "metadata": {},
   "source": []
  }
 ],
 "metadata": {
  "kernelspec": {
   "display_name": "jupyter",
   "language": "python",
   "name": "jupyter"
  },
  "language_info": {
   "codemirror_mode": {
    "name": "ipython",
    "version": 3
   },
   "file_extension": ".py",
   "mimetype": "text/x-python",
   "name": "python",
   "nbconvert_exporter": "python",
   "pygments_lexer": "ipython3",
   "version": "3.8.8"
  }
 },
 "nbformat": 4,
 "nbformat_minor": 2
}
