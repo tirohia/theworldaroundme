{
 "cells": [
  {
   "cell_type": "markdown",
   "metadata": {
    "toc": true
   },
   "source": [
    "<h1>Table of Contents<span class=\"tocSkip\"></span></h1>\n",
    "<div class=\"toc\"><ul class=\"toc-item\"><li><span><a href=\"#Mortgage-scenarios\" data-toc-modified-id=\"Mortgage-scenarios-1\"><span class=\"toc-item-num\">1&nbsp;&nbsp;</span>Mortgage scenarios</a></span></li><li><span><a href=\"#Kiwibuild,-new-build\" data-toc-modified-id=\"Kiwibuild,-new-build-2\"><span class=\"toc-item-num\">2&nbsp;&nbsp;</span>Kiwibuild, new build</a></span></li><li><span><a href=\"#New-build-in-Auckland\" data-toc-modified-id=\"New-build-in-Auckland-3\"><span class=\"toc-item-num\">3&nbsp;&nbsp;</span>New build in Auckland</a></span></li><li><span><a href=\"#Existing-build-in-Auckland\" data-toc-modified-id=\"Existing-build-in-Auckland-4\"><span class=\"toc-item-num\">4&nbsp;&nbsp;</span>Existing build in Auckland</a></span></li><li><span><a href=\"#Out-of-Auckland\" data-toc-modified-id=\"Out-of-Auckland-5\"><span class=\"toc-item-num\">5&nbsp;&nbsp;</span>Out of Auckland</a></span></li><li><span><a href=\"#Leasehold\" data-toc-modified-id=\"Leasehold-6\"><span class=\"toc-item-num\">6&nbsp;&nbsp;</span>Leasehold</a></span></li><li><span><a href=\"#Commercial\" data-toc-modified-id=\"Commercial-7\"><span class=\"toc-item-num\">7&nbsp;&nbsp;</span>Commercial</a></span></li></ul></div>"
   ]
  },
  {
   "cell_type": "markdown",
   "metadata": {},
   "source": [
    "## Mortgage scenarios"
   ]
  },
  {
   "cell_type": "markdown",
   "metadata": {},
   "source": [
    "Housing is nuts. This is a quick (rough) running of the numbers for a number of the options that I am considering, the end goal (at the moment) being able to live/work in a small to medium sized warehouse in West Auckland somewhere in five years time. There are a small number of suitable warehouses going at the moment in the 6-700K range. The problem with these is that banks want a much greater deposit (~40%) and have much shorter terms for loans on commercial buildings.\n",
    "\n",
    "I'm not ruling anything out. I lie. I am ruling some things out, a house is not everything. I am however, thinking options through before discarding them. There are a number of scenarios below, all to be evaluated against the end goal. \n",
    "\n",
    "For the next 9 months or so, whilst my salary stays under 95K I should theoretically have access to the First Home Grants and Loans. These are not huge - the First Home Grant is \n",
    "- 1k for every year of contributions to kiwisaver to a maximum of 5k for an existing build\n",
    "- 2k for every year of contributions to kiwisaver to a maximum of 10k for an new build\n",
    "The first home loans enable a mortgage with a 5\\% deposit, to a maximum of 625K for an existing build or 700K for a new build. The only proviso is that one has to live in the building for at least six months. \n",
    "\n",
    "I haven't got to evaluate all of these yet, but enough of them to get an idea of what is viable given different deposit amounts, and then evaluate against the end goal criteria. They are all by necessity, approximate. Some assumptions used:\n",
    "- higher than current interest rate, to guard against the fact that the interest rates will go up. \n",
    "- capital gains are only assumed on some options\n",
    "- capital gains are assumed to be lower than they have been for the last few years\n",
    "\n"
   ]
  },
  {
   "cell_type": "code",
   "execution_count": 1,
   "metadata": {
    "code_folding": [
     14,
     31,
     37,
     44,
     51,
     60
    ],
    "hide_input": true,
    "tags": [
     "hide-cell"
    ]
   },
   "outputs": [],
   "source": [
    "# relevant code/imports for all sections. \n",
    "\n",
    "from ipywidgets import interact, widgets, Layout\n",
    "from ipywidgets import VBox, HBox, Label, IntSlider\n",
    "from IPython.display import display\n",
    "from mortgage import Loan\n",
    "import inspect\n",
    "from IPython.display import Markdown as md\n",
    "import pandas as pd\n",
    "from IPython.display import display, HTML\n",
    "from ipywidgets import AppLayout\n",
    "\n",
    "\n",
    "# for widget description width\n",
    "style = {'description_width': 'initial'}\n",
    "\n",
    "def installmentToDict(installment):\n",
    "    installmentDict=dict()\n",
    "    for i in inspect.getmembers(installment):\n",
    "    # to remove private and protected functions\n",
    "        if not i[0].startswith('_'):\n",
    "        # To remove other methods that do not start with a underscore\n",
    "            if not inspect.ismethod(i[1]): \n",
    "                installmentDict[i[0]]=i[1]\n",
    "    del installmentDict[\"count\"]\n",
    "    del installmentDict[\"index\"]\n",
    "    \n",
    "    #for key, value in installmentDict.items():\n",
    "    #    if isinstance(value, Decimal):\n",
    "    #        installmentDict[key] = float(value)\n",
    "\n",
    "    return installmentDict\n",
    "\n",
    "def compound_gains(principle, rate, time):\n",
    "    # time is in years\n",
    "    n = 1 #number of periods at which the interest is accured - 1 is annually.\n",
    "    amount = principle * (((1 + ((rate/100.0)/n)) ** (n*time)))\n",
    "    return(amount)\n",
    "    \n",
    "def interestToDate(loanSchedule, currentMark):\n",
    "    interestPaid = 0\n",
    "    for i in range(1,currentMark*12):\n",
    "        values = installmentToDict(loanSchedule.schedule(currentMark))\n",
    "        interestPaid = interestPaid + values['interest']\n",
    "    return interestPaid\n",
    "\n",
    "def principleToDate(loanSchedule, currentMark):\n",
    "    principalPaid = 0\n",
    "    for i in range(1,currentMark*12):\n",
    "        values = installmentToDict(loanSchedule.schedule(currentMark))\n",
    "        principalPaid = principalPaid + values['principal']\n",
    "    return principalPaid\n",
    "\n",
    "def format(x):\n",
    "        return \"${:.1f}K\".format(x/1000)\n",
    "    \n",
    "def getDisplayValues(markValues):\n",
    "    displayItems = [\"purchasePrice\", \"deposit\", \"balance\", \"year\", \"valueAtMark\", \"capitalGains\", \"personalGains\",\"gainsOnDeposit\", \"weeklyMortgagePayment\"]\n",
    "    return  {k: markValues[k] for k in displayItems}\n",
    "\n",
    "    \n",
    "## for changing the slider variables\n",
    "def on_change(v):\n",
    "    x = v['new'] \n",
    "\n",
    "    \n",
    "    "
   ]
  },
  {
   "cell_type": "code",
   "execution_count": 2,
   "metadata": {
    "hide_input": true,
    "tags": []
   },
   "outputs": [],
   "source": [
    "# set some defaults\n",
    "\n",
    "## assumed rate of capital gains, default to the Auckland average of 5%\n",
    "defaultCapitalGainsRate=5.2\n",
    "## the number of years. \n",
    "defaultMark= 5\n",
    "## interest rate, expressed as a value between 0 and 1\n",
    "defaultInterestRate= 4\n",
    "## the number of years the loan would run for if I didn't cash out. \n",
    "defaultTerm = 30\n",
    "## total value of the hypothetical property\n",
    "defaultTotalValue = 650000\n",
    "## value of deposit from Sam\n",
    "defaultDepositValue = 70000\n",
    "\n",
    "def getMarkValues(capitalGainsRate, mark, interestRate, term, totalValue, depositValue):\n",
    "    ## sum borrowed from the bank\n",
    "    loanValue = totalValue - depositValue\n",
    "\n",
    "    ## minimum house value at the mark, assuming capital gains rate stays at at least the default\n",
    "    finalValue = compound_gains(loanValue, capitalGainsRate, mark)\n",
    "\n",
    "    ## loan computation\n",
    "    loan = Loan(principal=loanValue, interest=interestRate, term = term)\n",
    "\n",
    "    valuesAtMark = installmentToDict(loan.schedule(mark*12))\n",
    "    \n",
    "    valuesAtMark['purchasePrice'] = totalValue\n",
    "    valuesAtMark['deposit'] = depositValue\n",
    "    valuesAtMark['year'] = mark\n",
    "    valuesAtMark['interestToDate'] = interestToDate(loan, mark)\n",
    "    valuesAtMark['interestToDate'] = valuesAtMark.pop('total_interest')\n",
    "    valuesAtMark['principleToDate'] = principleToDate(loan, mark)\n",
    "\n",
    "    # capital gains\n",
    "    valuesAtMark['valueAtMark'] = compound_gains(totalValue, capitalGainsRate, mark)\n",
    "    valuesAtMark['capitalGains'] = valuesAtMark['valueAtMark'] - totalValue\n",
    "    valuesAtMark['personalGains'] = valuesAtMark['capitalGains']*(1-(depositValue/totalValue)) + loanValue-float(valuesAtMark['balance'])\n",
    "    valuesAtMark['gainsOnDeposit'] = valuesAtMark['capitalGains']*(depositValue/totalValue)\n",
    "\n",
    "    valuesAtMark['interestOnDeposit'] = (depositValue * interestRate) * mark\n",
    "\n",
    "    valuesAtMark['weeklyMortgagePayment'] = float(loan.monthly_payment) * 12/52\n",
    "    valuesAtMark['weeklyPayment'] = valuesAtMark['weeklyMortgagePayment'] + (depositValue * interestRate)/52\n",
    "    \n",
    "    for key, value in valuesAtMark.items():\n",
    "        if key != \"year\" :\n",
    "            valuesAtMark[key] = round(float(valuesAtMark[key]), 2)\n",
    "\n",
    "    #markValues = pd.DataFrame(valuesAtMark.items(), columns =[\"field\", \"value\"]) \n",
    "    #markValues['value'] = markValues['value'].apply('${:,.2f}'.format)\n",
    "    #markValues.iloc[2,1] = valuesAtMark['number']\n",
    "\n",
    "    return valuesAtMark\n",
    "\n"
   ]
  },
  {
   "cell_type": "markdown",
   "metadata": {},
   "source": [
    "## Kiwibuild, new build"
   ]
  },
  {
   "cell_type": "markdown",
   "metadata": {},
   "source": [
    "I currently fulfill the eligibility criteria for Kiwibuild - I don't currently own a home, I live in New Zealand and I earn less than 120K. Notable caveats are that it requires any loan/gift for a deposit to be declared a gift and not be expected to be repaid, and you have to live there for a year if you get a 1 bedroom, or 3 years if you get a 2 or more bedroom place. \n",
    "\n",
    "There are currently builds available in Auckland, though they are entertainingly difficult to get details on. For example, of the ones out west currently listed on https://www.kiwibuild.govt.nz/available-homes/, \n",
    "- Titoki Street in Te Atatu, can find no information.\n",
    "- Aroha in Avondale, sold out.  \n",
    "- Plus Pacific Tower in Henderson, there is a working contact email (not that they have replied yet), but no information regarding what is available or not. \n",
    "\n",
    "Have not yet investigated the southern ones, but will get to it. A quick glance leaves me not overly sanguine with regards to the availability of information. \n",
    "\n",
    "\n",
    "\n",
    "I've calculated a default kiwibuild status at 5 years. And the controls below should enable comparisons to be made if needed. "
   ]
  },
  {
   "cell_type": "code",
   "execution_count": 55,
   "metadata": {
    "hide_input": true
   },
   "outputs": [
    {
     "data": {
      "text/html": [
       "<table border=\"1\" class=\"dataframe\">\n",
       "  <tbody>\n",
       "    <tr>\n",
       "      <td>purchasePrice</td>\n",
       "      <td>550,000.00</td>\n",
       "    </tr>\n",
       "    <tr>\n",
       "      <td>deposit</td>\n",
       "      <td>32,500.00</td>\n",
       "    </tr>\n",
       "    <tr>\n",
       "      <td>balance</td>\n",
       "      <td>468,065.88</td>\n",
       "    </tr>\n",
       "    <tr>\n",
       "      <td>year</td>\n",
       "      <td>5.00</td>\n",
       "    </tr>\n",
       "    <tr>\n",
       "      <td>valueAtMark</td>\n",
       "      <td>701,954.86</td>\n",
       "    </tr>\n",
       "    <tr>\n",
       "      <td>capitalGains</td>\n",
       "      <td>151,954.86</td>\n",
       "    </tr>\n",
       "    <tr>\n",
       "      <td>personalGains</td>\n",
       "      <td>192,409.83</td>\n",
       "    </tr>\n",
       "    <tr>\n",
       "      <td>gainsOnDeposit</td>\n",
       "      <td>8,979.15</td>\n",
       "    </tr>\n",
       "    <tr>\n",
       "      <td>weeklyMortgagePayment</td>\n",
       "      <td>570.14</td>\n",
       "    </tr>\n",
       "  </tbody>\n",
       "</table>"
      ],
      "text/plain": [
       "<IPython.core.display.HTML object>"
      ]
     },
     "metadata": {},
     "output_type": "display_data"
    }
   ],
   "source": [
    "pd.options.display.float_format = \"{:,.2f}\".format\n",
    "kiwibuildMark = getMarkValues(5, 5, 0.04, 30, 550000, 32500)\n",
    "displayValues = getDisplayValues(kiwibuildMark)\n",
    "displayDf = pd.DataFrame(displayValues.items(), columns =[\"field\", \"value\"])\n",
    "displayDf.style.apply(lambda x: round(2))\n",
    "display(HTML(displayDf.to_html(index=False, header=False)))\n"
   ]
  },
  {
   "cell_type": "markdown",
   "metadata": {
    "hide_input": true,
    "variables": {
     "kiwibuildMark[\"interestOnDeposit\"]": "6500.0",
     "kiwibuildMark[\"personalGains\"]": "192409.83",
     "kiwibuildMark[\"weeklyMortgagePayment\"]": "570.14",
     "kiwibuildMark[\"weeklyPayment\"]": "595.14"
    }
   },
   "source": [
    "For kiwibuild, I am defaulting to a property price of around 650K and a 5\\% deposit of 32500. At the five year mark this gives me {{kiwibuildMark[\"personalGains\"]}}. This is assuming that the rate of capital gains in Auckland doesn't drop below the average for the last few years of 5.2%, and that interest rates don't rise about 4\\%. It would also mean that the weekly mortgage payment is {{kiwibuildMark[\"weeklyMortgagePayment\"]}}, which is easily do-able with a flatmate. The interest on the deposit would be {{kiwibuildMark[\"interestOnDeposit\"]}}, which could either be paid by bringing the weekly payment up to {{kiwibuildMark[\"weeklyPayment\"]}} or taken off the gains at the end of the arrangement. \n",
    "\n",
    "The total cost has to drop well under five hundred before the weekly payment is do-able for a single bedroom. \n",
    "\n",
    "The other thing of note in this is that I have split the capital gains by figuring out what proportion of the total value the deposit is, and multiplying capital gains by that ratio. We should think/talk about that, as it means the gains on the deposit are smaller.\n",
    "\n",
    "Entertainingly, it pays off in the long run to buy something more expensive, as whilst less is paid off due to more going towards interest rather than principle, the capital gains outweighs that. \n"
   ]
  },
  {
   "cell_type": "code",
   "execution_count": 65,
   "metadata": {
    "hide_input": true
   },
   "outputs": [
    {
     "data": {
      "application/vnd.jupyter.widget-view+json": {
       "model_id": "c2f35a5edfca47fcba7f582c319993cf",
       "version_major": 2,
       "version_minor": 0
      },
      "text/plain": [
       "AppLayout(children=(VBox(children=(IntText(value=650000, description='Sale Price', step=1000, style=Descriptio…"
      ]
     },
     "metadata": {},
     "output_type": "display_data"
    }
   ],
   "source": [
    "style = {'description_width': '150px', \"description_position\":\"left\"}\n",
    "buttonstyle = {'description_width': '150px', \"object_position\":\"right\"}\n",
    "form_item_layout = Layout(\n",
    "    width='375px'\n",
    ")\n",
    "\n",
    "totalValue=widgets.IntText(value=defaultTotalValue, step=1000, description = \"Sale Price\", style=style)\n",
    "depositValue=widgets.IntText(value=defaultDepositValue, step=1000, description = \"Deposit\", style=style)\n",
    "mark=widgets.IntText(value=defaultMark, description = \"Status at year (x): \", style=style)\n",
    "interestSlider = widgets.FloatSlider(value=defaultInterestRate, min=0, max=10, description = \"Interest rate: \", style=style, layout=form_item_layout)\n",
    "interestSlider.observe(on_change, names='value')\n",
    "capitalGainsSlider = widgets.FloatSlider(value=defaultCapitalGainsRate, min=0, max=10, description = \"Capital gains rate: \", style=style, layout=form_item_layout)\n",
    "capitalGainsSlider.observe(on_change, names='value')\n",
    "ermSlider = widgets.IntSlider(value=defaultTerm, min=0, max=30, description = \"Loan term: \", style=style, layout=form_item_layout)\n",
    "termSlider.observe(on_change, names='value')\n",
    "\n",
    "#interestRate = interestSlider.value/100\n",
    "#capitalGainsRate = capitalGainsSlider.value/100\n",
    "\n",
    "button = widgets.Button(description=\"Calcuate\", style = buttonstyle)\n",
    "button.on_click(on_button_clicked)\n",
    "output = widgets.Output()\n",
    "#display(button, output)\n",
    "\n",
    "box_layout = widgets.Layout(display='flex',\n",
    "                flex_flow='column',\n",
    "                align_items='flex-end',\n",
    "                width='75%')\n",
    "\n",
    "\n",
    "thing = AppLayout(header=None,\n",
    "          left_sidebar=VBox([totalValue,depositValue,mark,interestSlider,capitalGainsSlider,termSlider, HBox([button], layout=box_layout)] ),\n",
    "          center=None,\n",
    "          right_sidebar=output,\n",
    "          footer=None)\n",
    "\n",
    "def on_button_clicked(b):\n",
    "    output.clear_output()\n",
    "    with output:\n",
    "        markValues = getMarkValues(capitalGainsSlider.value, mark.value, interestSlider.value/100, termSlider.value, totalValue.value, depositValue.value)\n",
    "        displayValues = getDisplayValues(markValues)\n",
    "        displayDf = pd.DataFrame(displayValues.items(), columns =[\"field\", \"value\"])\n",
    "        displayDf['value'] = displayDf['value'].round(2)\n",
    "        displayDf.style.apply(lambda x: round(2))\n",
    "        display(HTML(displayDf.to_html(index=False, header=False)))\n",
    "\n",
    "\n",
    "\n",
    "thing"
   ]
  },
  {
   "cell_type": "markdown",
   "metadata": {
    "hide_input": true
   },
   "source": [
    "## New build in Auckland"
   ]
  },
  {
   "cell_type": "markdown",
   "metadata": {},
   "source": [
    "This doesn't really change any of the calculations above. The only thing it does do is up the required deposit. There is still a ceiling of whatever it is that the bank is willing to lend. If it's not Kiwibuild then the only viable option for a new build would be a small townhouse or apartment. \n",
    "\n",
    "The Kiwibuild developments tend to offer small floor areas - Ockham's next Kiwibuild project for example is offering one bedroom apartments from 42 to 45 sqm. "
   ]
  },
  {
   "cell_type": "markdown",
   "metadata": {},
   "source": [
    "## Existing build in Auckland"
   ]
  },
  {
   "cell_type": "markdown",
   "metadata": {},
   "source": [
    "The options for purchasing an existing build in Auckland are limited. With a hard ceiling from the bank, these are likely to be either a small brick and tile or a townhouse. Neither of these are objectionable. Even with these however, there are limits. If one were to luck into one of these then it would be Avondale and west, or Otahahu and south, including Mangere, and Mangere Bridge. \n",
    "\n",
    "An alternative option, is the purchase of a do-up. There are a small number of properties in need of attention that may go for an affordable sum. Obviously major structural problems would rule a property out, but the option exists for additional value to be added by virtue of free labor (mine)."
   ]
  },
  {
   "cell_type": "markdown",
   "metadata": {},
   "source": [
    "## Out of Auckland"
   ]
  },
  {
   "cell_type": "markdown",
   "metadata": {},
   "source": [
    "I have thought about this. I really have. And the answer is no. "
   ]
  },
  {
   "cell_type": "markdown",
   "metadata": {},
   "source": [
    "\n",
    "## Leasehold\n",
    "\n",
    "\n",
    "Leasehold is a little different. The upfront sum is significantly less. There is a significant cost involved in the ground rent though. The upfront sum could be anywhere from 150 to 250k. On the face of it, it would be very easy to pay this off in a few years. Ground rent can easily add 300 pw to the costs though, making repayments smaller. Things to be wary about - when is the ground rent due for review, CVu had a thing last year where an extra 10K/year was added to the ground rent. A review just gone might make this an attractive option for a couple of years, or a review several years away, giving time to buy, recoup and sell with a signiicant period left before the next review - will be harder to sell if the next review is close. "
   ]
  },
  {
   "cell_type": "code",
   "execution_count": 5,
   "metadata": {
    "hide_input": true,
    "scrolled": true
   },
   "outputs": [
    {
     "data": {
      "application/vnd.jupyter.widget-view+json": {
       "model_id": "f1b66b98c941459ea01d4ee5e6b230ad",
       "version_major": 2,
       "version_minor": 0
      },
      "text/plain": [
       "IntText(value=200, description='Total Value(k): ', style=DescriptionStyle(description_width='150px'))"
      ]
     },
     "metadata": {},
     "output_type": "display_data"
    },
    {
     "data": {
      "application/vnd.jupyter.widget-view+json": {
       "model_id": "267e5ce0b6e347c7be05d105dc625928",
       "version_major": 2,
       "version_minor": 0
      },
      "text/plain": [
       "IntText(value=40, description='Deposit(k): ', style=DescriptionStyle(description_width='150px'))"
      ]
     },
     "metadata": {},
     "output_type": "display_data"
    },
    {
     "data": {
      "application/vnd.jupyter.widget-view+json": {
       "model_id": "d82ac279929c4cb78b3ff644cb980afa",
       "version_major": 2,
       "version_minor": 0
      },
      "text/plain": [
       "IntText(value=12, description='Ground rent(k): ', style=DescriptionStyle(description_width='150px'))"
      ]
     },
     "metadata": {},
     "output_type": "display_data"
    },
    {
     "data": {
      "application/vnd.jupyter.widget-view+json": {
       "model_id": "65b3ecf8c85e422881ab4ff29e110291",
       "version_major": 2,
       "version_minor": 0
      },
      "text/plain": [
       "FloatSlider(value=3.0, description='Interest rate(%)', max=10.0, style=SliderStyle(description_width='150px'))"
      ]
     },
     "metadata": {},
     "output_type": "display_data"
    },
    {
     "data": {
      "application/vnd.jupyter.widget-view+json": {
       "model_id": "a3ff4c37ce23435094450ce98d9fb4cb",
       "version_major": 2,
       "version_minor": 0
      },
      "text/plain": [
       "IntText(value=10, description='Term(y): ', style=DescriptionStyle(description_width='150px'))"
      ]
     },
     "metadata": {},
     "output_type": "display_data"
    }
   ],
   "source": [
    "\n",
    "\n",
    "\n",
    "propertyValueInput=widgets.IntText(value=200, description= \"Total Value(k): \", style = style)\n",
    "display(propertyValueInput)\n",
    "\n",
    "depositInput=widgets.IntText(value=40, description= \"Deposit(k): \" , style = style)\n",
    "display(depositInput)\n",
    "\n",
    "groundRentInput=widgets.IntText(value=12, description= \"Ground rent(k): \", style = style)\n",
    "display(groundRentInput)\n",
    "\n",
    "x=3\n",
    "interestSlider = widgets.FloatSlider(value=3, min=0, max=10, description=\"Interest rate(%)\" , readout_format='.2f', style = style)\n",
    "interestSlider.observe(on_change, names='value')\n",
    "display(interestSlider)\n",
    "\n",
    "\n",
    "termInput=widgets.IntText(value=10, description= \"Term(y): \", style = style)\n",
    "display(termInput)\n"
   ]
  },
  {
   "cell_type": "markdown",
   "metadata": {},
   "source": [
    "If we add a proviso of limiting the rent to around $700 - flexible, but roughly 500(-100) for me, 200(+/-100) for a flatmate, then paying around with the settings, we can see that with ~300pw added for ground rent, then we have to have a term of ~10 years to make the rent achievable. "
   ]
  },
  {
   "cell_type": "code",
   "execution_count": 6,
   "metadata": {
    "hide_input": true,
    "scrolled": true
   },
   "outputs": [
    {
     "name": "stdout",
     "output_type": "stream",
     "text": [
      "weekly mortgage payment:\n",
      "$436.75\n",
      "weekly payment including ground rent/opex:\n",
      "$667.52\n"
     ]
    }
   ],
   "source": [
    "interestRate= interestSlider.value/100\n",
    "totalValue = propertyValueInput.value * 1000\n",
    "depositValue=depositInput.value * 100\n",
    "term = termInput.value\n",
    "loan = Loan(principal=totalValue-depositValue, interest=interestRate, term=term)\n",
    "\n",
    "\n",
    "fiveYearMark = installmentToDict(loan.schedule(60))\n",
    "\n",
    "weeklyMortgage = (fiveYearMark['payment']*12)/52\n",
    "weeklyGroundRent = groundRentInput.value*1000/52\n",
    "weeklyMortgage = float(weeklyMortgage)\n",
    "weeklyPayment = weeklyMortgage + weeklyGroundRent\n",
    "\n",
    "print(\"weekly mortgage payment:\")\n",
    "print(\"${:,.2f}\".format(weeklyMortgage))\n",
    "print(\"weekly payment including ground rent/opex:\")\n",
    "print(\"${:,.2f}\".format(weeklyPayment))\n"
   ]
  },
  {
   "cell_type": "markdown",
   "metadata": {},
   "source": [
    "So a shorter term, with more goes towards the capital. If we look at this at the five year mark then what remains is:"
   ]
  },
  {
   "cell_type": "code",
   "execution_count": 7,
   "metadata": {
    "hide_input": true
   },
   "outputs": [
    {
     "name": "stdout",
     "output_type": "stream",
     "text": [
      "$90,672.87\n"
     ]
    }
   ],
   "source": [
    "fiveYearMark = installmentToDict(loan.schedule(60))\n",
    "print (\"${:,.2f}\".format(totalValue-depositValue-fiveYearMark[\"balance\"]))\n",
    "\n"
   ]
  },
  {
   "cell_type": "markdown",
   "metadata": {},
   "source": [
    "Which might be fine if there were capital gains, but the general advice appears to be that the capital gains accrue to the land, and not the built structures. So total gains on this appear to be ~ 80K over five years. \n",
    "\n",
    "Most of these options have a cost - namely, the interest. This option has the added cost of "
   ]
  },
  {
   "cell_type": "code",
   "execution_count": 8,
   "metadata": {
    "hide_input": true
   },
   "outputs": [
    {
     "name": "stdout",
     "output_type": "stream",
     "text": [
      "$120,000.00\n"
     ]
    }
   ],
   "source": [
    "groundRentPaid = weeklyGroundRent * 52 * term\n",
    "print (\"${:,.2f}\".format(groundRentPaid))"
   ]
  },
  {
   "cell_type": "markdown",
   "metadata": {},
   "source": [
    "has been paid to get to this point, a combination of ground rent and opex in a roughly 2/3-1/3 split. \n",
    "As an aside, if one was okay with being a landlord, and could afford to buy one of these outright, it might possibly be an okay thing to contemplate, as the only cost is that of your ground rent/opex. "
   ]
  },
  {
   "cell_type": "markdown",
   "metadata": {},
   "source": [
    "## Commercial\n",
    "\n",
    "Commercial properties require a minimum of 40% deposit, which makes them difficult to obtain finance for. Additionally, interest rates are higher, and loan terms shorter. \n",
    "\n",
    "Currently, the BNZ appears to be the only viable option as it is possible to get a 25 year term loan, as opposed to the standard 15 that other banks appear to have as their limit. \n",
    "\n",
    "\n",
    "Interest rates for the BNZ vary, with a base of 2.2% and an industry specific rate that can vary between 1.8 and 4. "
   ]
  },
  {
   "cell_type": "code",
   "execution_count": 9,
   "metadata": {
    "hide_input": true
   },
   "outputs": [
    {
     "data": {
      "application/vnd.jupyter.widget-view+json": {
       "model_id": "582c9f2ef28b4a398b7ae42492d9e0ce",
       "version_major": 2,
       "version_minor": 0
      },
      "text/plain": [
       "IntText(value=650, description='Total Value: ')"
      ]
     },
     "metadata": {},
     "output_type": "display_data"
    },
    {
     "data": {
      "application/vnd.jupyter.widget-view+json": {
       "model_id": "970165efa52243b09d6262f816d0551d",
       "version_major": 2,
       "version_minor": 0
      },
      "text/plain": [
       "IntText(value=120, description='Deposit: ')"
      ]
     },
     "metadata": {},
     "output_type": "display_data"
    },
    {
     "data": {
      "application/vnd.jupyter.widget-view+json": {
       "model_id": "4124a646b7d5427987fbda1110f315b2",
       "version_major": 2,
       "version_minor": 0
      },
      "text/plain": [
       "IntSlider(value=4, max=10)"
      ]
     },
     "metadata": {},
     "output_type": "display_data"
    }
   ],
   "source": [
    "\n",
    "propertyValue=widgets.IntText(value=650, description= \"Total Value: \")\n",
    "\n",
    "display(propertyValue)\n",
    "\n",
    "depositValue=widgets.IntText(value=120, description= \"Deposit: \")\n",
    "\n",
    "display(depositValue)\n",
    "\n",
    "\n",
    "x = 5\n",
    "slider = widgets.IntSlider(value=4, min=0, max=10)\n",
    "# change the slider value\n",
    "def on_change(v):\n",
    "    x = v['new'] \n",
    "slider.observe(on_change, names='value')\n",
    "\n",
    "display(slider)"
   ]
  },
  {
   "cell_type": "code",
   "execution_count": 10,
   "metadata": {
    "hide_input": true
   },
   "outputs": [],
   "source": [
    "\n",
    "\n",
    "interestRate= slider.value/100\n",
    "\n",
    "totalValue = propertyValue.value * 1000\n",
    "depositValue=depositValue.value * 100\n",
    "\n",
    "loan = Loan(principal=totalValue-depositValue, interest=interestRate, term=25)\n",
    "\n"
   ]
  },
  {
   "cell_type": "markdown",
   "metadata": {},
   "source": [
    "At the 5 year mark, the capital that I would hold would be:\n",
    "Value of property - sams deposit - sams share of capital gains - whatever is left to the bank. "
   ]
  },
  {
   "cell_type": "code",
   "execution_count": 11,
   "metadata": {
    "hide_input": true
   },
   "outputs": [
    {
     "name": "stdout",
     "output_type": "stream",
     "text": [
      "balance  :  $555,727.45\n",
      "interest  :  $1,857.46\n",
      "number  :  60\n",
      "payment  :  $3,367.60\n",
      "principal  :  $1,510.14\n",
      "total_interest  :  $119,783.39\n"
     ]
    }
   ],
   "source": [
    "\n",
    "\n",
    "fiveYearMark = installmentToDict(loan.schedule(60))\n",
    "\n",
    "for key, value in fiveYearMark.items():\n",
    "    if key==\"number\":\n",
    "        print(key, \" : \", value)\n",
    "    else:\n",
    "        print(key, \" : \", \"${:,.2f}\".format(value))\n"
   ]
  },
  {
   "cell_type": "markdown",
   "metadata": {},
   "source": [
    "So my capital becomes is what remains when the deposit and what the bank still owns is removed form the total value:"
   ]
  },
  {
   "cell_type": "code",
   "execution_count": 12,
   "metadata": {
    "hide_input": true
   },
   "outputs": [
    {
     "name": "stdout",
     "output_type": "stream",
     "text": [
      "$82,272.55\n"
     ]
    }
   ],
   "source": [
    "\n",
    "print (\"${:,.2f}\".format(totalValue-depositValue-fiveYearMark[\"balance\"]))"
   ]
  },
  {
   "cell_type": "markdown",
   "metadata": {},
   "source": [
    "This is without accounting for capital gains. Auckland has been at ~5% for some time, so I'm currently seeting capital gains at 4%, which leaves a total value of:"
   ]
  },
  {
   "cell_type": "code",
   "execution_count": 13,
   "metadata": {
    "hide_input": true
   },
   "outputs": [
    {
     "ename": "NameError",
     "evalue": "name 'compound_interest' is not defined",
     "output_type": "error",
     "traceback": [
      "\u001b[0;31m---------------------------------------------------------------------------\u001b[0m",
      "\u001b[0;31mNameError\u001b[0m                                 Traceback (most recent call last)",
      "\u001b[0;32m<ipython-input-13-1eb68c85e120>\u001b[0m in \u001b[0;36m<module>\u001b[0;34m\u001b[0m\n\u001b[1;32m      2\u001b[0m \u001b[0mmark\u001b[0m\u001b[0;34m=\u001b[0m\u001b[0;36m5\u001b[0m\u001b[0;34m\u001b[0m\u001b[0;34m\u001b[0m\u001b[0m\n\u001b[1;32m      3\u001b[0m \u001b[0;34m\u001b[0m\u001b[0m\n\u001b[0;32m----> 4\u001b[0;31m \u001b[0mfinalValue\u001b[0m \u001b[0;34m=\u001b[0m \u001b[0mcompound_interest\u001b[0m\u001b[0;34m(\u001b[0m\u001b[0mtotalValue\u001b[0m\u001b[0;34m,\u001b[0m \u001b[0mgainsRate\u001b[0m\u001b[0;34m,\u001b[0m \u001b[0mmark\u001b[0m\u001b[0;34m)\u001b[0m\u001b[0;34m\u001b[0m\u001b[0;34m\u001b[0m\u001b[0m\n\u001b[0m\u001b[1;32m      5\u001b[0m \u001b[0mprint\u001b[0m\u001b[0;34m(\u001b[0m\u001b[0;34m\"${:,.2f}\"\u001b[0m\u001b[0;34m.\u001b[0m\u001b[0mformat\u001b[0m\u001b[0;34m(\u001b[0m\u001b[0mfinalValue\u001b[0m\u001b[0;34m)\u001b[0m\u001b[0;34m)\u001b[0m\u001b[0;34m\u001b[0m\u001b[0;34m\u001b[0m\u001b[0m\n\u001b[1;32m      6\u001b[0m \u001b[0;34m\u001b[0m\u001b[0m\n",
      "\u001b[0;31mNameError\u001b[0m: name 'compound_interest' is not defined"
     ]
    }
   ],
   "source": [
    "gainsRate=5\n",
    "mark=5\n",
    "  \n",
    "finalValue = compound_interest(totalValue, gainsRate, mark)\n",
    "print(\"${:,.2f}\".format(finalValue))\n",
    "\n"
   ]
  },
  {
   "cell_type": "markdown",
   "metadata": {},
   "source": [
    "And a final total capital for myself of:"
   ]
  },
  {
   "cell_type": "code",
   "execution_count": 14,
   "metadata": {
    "hide_input": true
   },
   "outputs": [
    {
     "ename": "NameError",
     "evalue": "name 'finalValue' is not defined",
     "output_type": "error",
     "traceback": [
      "\u001b[0;31m---------------------------------------------------------------------------\u001b[0m",
      "\u001b[0;31mNameError\u001b[0m                                 Traceback (most recent call last)",
      "\u001b[0;32m<ipython-input-14-c6ac33e2375c>\u001b[0m in \u001b[0;36m<module>\u001b[0;34m\u001b[0m\n\u001b[0;32m----> 1\u001b[0;31m \u001b[0mpersonalGains\u001b[0m \u001b[0;34m=\u001b[0m \u001b[0mfloat\u001b[0m\u001b[0;34m(\u001b[0m\u001b[0;34m(\u001b[0m\u001b[0mfinalValue\u001b[0m\u001b[0;34m-\u001b[0m\u001b[0mtotalValue\u001b[0m\u001b[0;34m)\u001b[0m\u001b[0;34m/\u001b[0m\u001b[0;36m2\u001b[0m\u001b[0;34m)\u001b[0m\u001b[0;34m\u001b[0m\u001b[0;34m\u001b[0m\u001b[0m\n\u001b[0m\u001b[1;32m      2\u001b[0m \u001b[0mfiveYearMark\u001b[0m\u001b[0;34m[\u001b[0m\u001b[0;34m\"balance\"\u001b[0m\u001b[0;34m]\u001b[0m \u001b[0;34m=\u001b[0m \u001b[0mfloat\u001b[0m\u001b[0;34m(\u001b[0m\u001b[0mfiveYearMark\u001b[0m\u001b[0;34m[\u001b[0m\u001b[0;34m\"balance\"\u001b[0m\u001b[0;34m]\u001b[0m\u001b[0;34m)\u001b[0m\u001b[0;34m\u001b[0m\u001b[0;34m\u001b[0m\u001b[0m\n\u001b[1;32m      3\u001b[0m \u001b[0;34m\u001b[0m\u001b[0m\n\u001b[1;32m      4\u001b[0m \u001b[0mprint\u001b[0m \u001b[0;34m(\u001b[0m\u001b[0;34m\"${:,.2f}\"\u001b[0m\u001b[0;34m.\u001b[0m\u001b[0mformat\u001b[0m\u001b[0;34m(\u001b[0m\u001b[0mtotalValue\u001b[0m \u001b[0;34m+\u001b[0m \u001b[0mpersonalGains\u001b[0m \u001b[0;34m-\u001b[0m \u001b[0mdepositValue\u001b[0m \u001b[0;34m-\u001b[0m \u001b[0mfiveYearMark\u001b[0m\u001b[0;34m[\u001b[0m\u001b[0;34m\"balance\"\u001b[0m\u001b[0;34m]\u001b[0m\u001b[0;34m)\u001b[0m\u001b[0;34m)\u001b[0m\u001b[0;34m\u001b[0m\u001b[0;34m\u001b[0m\u001b[0m\n",
      "\u001b[0;31mNameError\u001b[0m: name 'finalValue' is not defined"
     ]
    }
   ],
   "source": [
    "personalGains = float((finalValue-totalValue)/2)\n",
    "fiveYearMark[\"balance\"] = float(fiveYearMark[\"balance\"])\n",
    "      \n",
    "print (\"${:,.2f}\".format(totalValue + personalGains - depositValue - fiveYearMark[\"balance\"]))"
   ]
  },
  {
   "cell_type": "markdown",
   "metadata": {},
   "source": [
    "Then the question remains, how much has this cost me? The two sums I am interested in here are how much have I spent, and how much would I have spent on rent/saved otherwise. \n",
    "Costs at this point will have been the interest on the loan, plus the interest on the deposit. \n",
    "Interest on the loan to this point:"
   ]
  },
  {
   "cell_type": "code",
   "execution_count": 15,
   "metadata": {
    "hide_input": true
   },
   "outputs": [
    {
     "name": "stdout",
     "output_type": "stream",
     "text": [
      "$117,925.94\n"
     ]
    }
   ],
   "source": [
    "interestPaid = 0\n",
    "for i in range(1, 5*12):\n",
    "    interestPaid = interestPaid + loan.schedule(i).interest\n",
    "    \n",
    "print(\"${:,.2f}\".format(interestPaid))"
   ]
  },
  {
   "cell_type": "markdown",
   "metadata": {},
   "source": [
    "whilst what I would have paid in rent (300pw) would have been:"
   ]
  },
  {
   "cell_type": "code",
   "execution_count": 16,
   "metadata": {
    "hide_input": true
   },
   "outputs": [
    {
     "name": "stdout",
     "output_type": "stream",
     "text": [
      "52000\n"
     ]
    }
   ],
   "source": [
    "rent = 200 * 52 * 5\n",
    "print(rent)"
   ]
  },
  {
   "cell_type": "markdown",
   "metadata": {},
   "source": [
    "and I would have been able to save maybe ..."
   ]
  },
  {
   "cell_type": "code",
   "execution_count": 17,
   "metadata": {
    "hide_input": true
   },
   "outputs": [
    {
     "name": "stdout",
     "output_type": "stream",
     "text": [
      "91000\n"
     ]
    }
   ],
   "source": [
    "savings = 350 * 52 * 5\n",
    "print(savings)"
   ]
  },
  {
   "cell_type": "markdown",
   "metadata": {},
   "source": []
  }
 ],
 "metadata": {
  "kernelspec": {
   "display_name": "jupyter",
   "language": "python",
   "name": "jupyter"
  },
  "language_info": {
   "codemirror_mode": {
    "name": "ipython",
    "version": 3
   },
   "file_extension": ".py",
   "mimetype": "text/x-python",
   "name": "python",
   "nbconvert_exporter": "python",
   "pygments_lexer": "ipython3",
   "version": "3.8.8"
  },
  "toc": {
   "base_numbering": 1,
   "nav_menu": {},
   "number_sections": true,
   "sideBar": true,
   "skip_h1_title": true,
   "title_cell": "Table of Contents",
   "title_sidebar": "Contents",
   "toc_cell": true,
   "toc_position": {},
   "toc_section_display": true,
   "toc_window_display": true
  },
  "toc-showtags": true,
  "varInspector": {
   "cols": {
    "lenName": 16,
    "lenType": 16,
    "lenVar": 40
   },
   "kernels_config": {
    "python": {
     "delete_cmd_postfix": "",
     "delete_cmd_prefix": "del ",
     "library": "var_list.py",
     "varRefreshCmd": "print(var_dic_list())"
    },
    "r": {
     "delete_cmd_postfix": ") ",
     "delete_cmd_prefix": "rm(",
     "library": "var_list.r",
     "varRefreshCmd": "cat(var_dic_list()) "
    }
   },
   "types_to_exclude": [
    "module",
    "function",
    "builtin_function_or_method",
    "instance",
    "_Feature"
   ],
   "window_display": false
  }
 },
 "nbformat": 4,
 "nbformat_minor": 4
}
